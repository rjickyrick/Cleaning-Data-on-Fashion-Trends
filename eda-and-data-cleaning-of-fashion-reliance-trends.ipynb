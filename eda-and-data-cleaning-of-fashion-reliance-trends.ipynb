{
 "cells": [
  {
   "cell_type": "code",
   "execution_count": 1,
   "id": "70c5228d",
   "metadata": {
    "_cell_guid": "b1076dfc-b9ad-4769-8c92-a6c4dae69d19",
    "_uuid": "8f2839f25d086af736a60e9eeb907d3b93b6e0e5",
    "execution": {
     "iopub.execute_input": "2022-07-06T08:08:56.341310Z",
     "iopub.status.busy": "2022-07-06T08:08:56.340541Z",
     "iopub.status.idle": "2022-07-06T08:08:56.358787Z",
     "shell.execute_reply": "2022-07-06T08:08:56.357619Z"
    },
    "papermill": {
     "duration": 0.031656,
     "end_time": "2022-07-06T08:08:56.361824",
     "exception": false,
     "start_time": "2022-07-06T08:08:56.330168",
     "status": "completed"
    },
    "tags": []
   },
   "outputs": [
    {
     "name": "stdout",
     "output_type": "stream",
     "text": [
      "/kaggle/input/fashion-reliance-trends/Reliance Trends Fashion.csv\n"
     ]
    }
   ],
   "source": [
    "# This Python 3 environment comes with many helpful analytics libraries installed\n",
    "# It is defined by the kaggle/python Docker image: https://github.com/kaggle/docker-python\n",
    "# For example, here's several helpful packages to load\n",
    "\n",
    "import numpy as np # linear algebra\n",
    "import pandas as pd # data processing, CSV file I/O (e.g. pd.read_csv)\n",
    "\n",
    "# Input data files are available in the read-only \"../input/\" directory\n",
    "# For example, running this (by clicking run or pressing Shift+Enter) will list all files under the input directory\n",
    "\n",
    "import os\n",
    "for dirname, _, filenames in os.walk('/kaggle/input'):\n",
    "    for filename in filenames:\n",
    "        print(os.path.join(dirname, filename))\n",
    "\n",
    "# You can write up to 20GB to the current directory (/kaggle/working/) that gets preserved as output when you create a version using \"Save & Run All\" \n",
    "# You can also write temporary files to /kaggle/temp/, but they won't be saved outside of the current session"
   ]
  },
  {
   "cell_type": "markdown",
   "id": "d2c7f997",
   "metadata": {
    "papermill": {
     "duration": 0.007375,
     "end_time": "2022-07-06T08:08:56.378322",
     "exception": false,
     "start_time": "2022-07-06T08:08:56.370947",
     "status": "completed"
    },
    "tags": []
   },
   "source": [
    "# Initial Setup"
   ]
  },
  {
   "cell_type": "code",
   "execution_count": 2,
   "id": "88532bcb",
   "metadata": {
    "execution": {
     "iopub.execute_input": "2022-07-06T08:08:56.395966Z",
     "iopub.status.busy": "2022-07-06T08:08:56.395382Z",
     "iopub.status.idle": "2022-07-06T08:08:58.658609Z",
     "shell.execute_reply": "2022-07-06T08:08:58.657449Z"
    },
    "papermill": {
     "duration": 2.275384,
     "end_time": "2022-07-06T08:08:58.661277",
     "exception": false,
     "start_time": "2022-07-06T08:08:56.385893",
     "status": "completed"
    },
    "tags": []
   },
   "outputs": [],
   "source": [
    "import numpy as np\n",
    "import pandas as pd\n",
    "import matplotlib.pyplot as plt\n",
    "import seaborn as sns\n",
    "import plotly.express as px\n",
    "sns.set_style('darkgrid')"
   ]
  },
  {
   "cell_type": "markdown",
   "id": "9e186a1d",
   "metadata": {
    "papermill": {
     "duration": 0.007608,
     "end_time": "2022-07-06T08:08:58.677356",
     "exception": false,
     "start_time": "2022-07-06T08:08:58.669748",
     "status": "completed"
    },
    "tags": []
   },
   "source": [
    "**Reading the dataset and loading it into dataframe**"
   ]
  },
  {
   "cell_type": "code",
   "execution_count": 3,
   "id": "6b116fb2",
   "metadata": {
    "execution": {
     "iopub.execute_input": "2022-07-06T08:08:58.694302Z",
     "iopub.status.busy": "2022-07-06T08:08:58.693921Z",
     "iopub.status.idle": "2022-07-06T08:08:58.954453Z",
     "shell.execute_reply": "2022-07-06T08:08:58.953220Z"
    },
    "papermill": {
     "duration": 0.272449,
     "end_time": "2022-07-06T08:08:58.957374",
     "exception": false,
     "start_time": "2022-07-06T08:08:58.684925",
     "status": "completed"
    },
    "tags": []
   },
   "outputs": [],
   "source": [
    "df=pd.read_csv('../input/fashion-reliance-trends/Reliance Trends Fashion.csv')"
   ]
  },
  {
   "cell_type": "code",
   "execution_count": 4,
   "id": "24cc97e2",
   "metadata": {
    "execution": {
     "iopub.execute_input": "2022-07-06T08:08:58.974589Z",
     "iopub.status.busy": "2022-07-06T08:08:58.974201Z",
     "iopub.status.idle": "2022-07-06T08:08:58.997474Z",
     "shell.execute_reply": "2022-07-06T08:08:58.996431Z"
    },
    "papermill": {
     "duration": 0.03436,
     "end_time": "2022-07-06T08:08:58.999776",
     "exception": false,
     "start_time": "2022-07-06T08:08:58.965416",
     "status": "completed"
    },
    "tags": []
   },
   "outputs": [
    {
     "data": {
      "text/html": [
       "<div>\n",
       "<style scoped>\n",
       "    .dataframe tbody tr th:only-of-type {\n",
       "        vertical-align: middle;\n",
       "    }\n",
       "\n",
       "    .dataframe tbody tr th {\n",
       "        vertical-align: top;\n",
       "    }\n",
       "\n",
       "    .dataframe thead th {\n",
       "        text-align: right;\n",
       "    }\n",
       "</style>\n",
       "<table border=\"1\" class=\"dataframe\">\n",
       "  <thead>\n",
       "    <tr style=\"text-align: right;\">\n",
       "      <th></th>\n",
       "      <th>Brand</th>\n",
       "      <th>Description</th>\n",
       "      <th>Image_URL</th>\n",
       "      <th>Product_ID</th>\n",
       "      <th>Discount_Price (in Rs.)</th>\n",
       "      <th>Original_Price (in Rs.)</th>\n",
       "      <th>Product_URL</th>\n",
       "      <th>Category_by_gender</th>\n",
       "      <th>Category</th>\n",
       "    </tr>\n",
       "  </thead>\n",
       "  <tbody>\n",
       "    <tr>\n",
       "      <th>0</th>\n",
       "      <td>performax</td>\n",
       "      <td>Typographic Print Track Pants with Insert Pockets</td>\n",
       "      <td>https://assets.ajio.com/medias/sys_master/root...</td>\n",
       "      <td>441136763008</td>\n",
       "      <td>974</td>\n",
       "      <td>1,299</td>\n",
       "      <td>https://trends.ajio.com/performax-typographic-...</td>\n",
       "      <td>Men</td>\n",
       "      <td>Activewear</td>\n",
       "    </tr>\n",
       "    <tr>\n",
       "      <th>1</th>\n",
       "      <td>performax</td>\n",
       "      <td>Low-Top Lace-Up Sports Shoes</td>\n",
       "      <td>https://assets.ajio.com/medias/sys_master/root...</td>\n",
       "      <td>450137679013</td>\n",
       "      <td>1,499</td>\n",
       "      <td>1,499</td>\n",
       "      <td>https://trends.ajio.com/performax-low-top-lace...</td>\n",
       "      <td>Men</td>\n",
       "      <td>Activewear</td>\n",
       "    </tr>\n",
       "    <tr>\n",
       "      <th>2</th>\n",
       "      <td>teamspirit</td>\n",
       "      <td>Colorblock Crew-Neck T-shirt</td>\n",
       "      <td>https://assets.ajio.com/medias/sys_master/root...</td>\n",
       "      <td>441133214008</td>\n",
       "      <td>461</td>\n",
       "      <td>549</td>\n",
       "      <td>https://trends.ajio.com/teamspirit-colorblock-...</td>\n",
       "      <td>Men</td>\n",
       "      <td>Activewear</td>\n",
       "    </tr>\n",
       "    <tr>\n",
       "      <th>3</th>\n",
       "      <td>performax</td>\n",
       "      <td>Camouflage Print Joggers with Insert Pockets</td>\n",
       "      <td>https://assets.ajio.com/medias/sys_master/root...</td>\n",
       "      <td>441134776020</td>\n",
       "      <td>1,189</td>\n",
       "      <td>1,699</td>\n",
       "      <td>https://trends.ajio.com/performax-camouflage-p...</td>\n",
       "      <td>Men</td>\n",
       "      <td>Activewear</td>\n",
       "    </tr>\n",
       "    <tr>\n",
       "      <th>4</th>\n",
       "      <td>teamspirit</td>\n",
       "      <td>Reflective Colourblock Crew-Neck T-shirt</td>\n",
       "      <td>https://assets.ajio.com/medias/sys_master/root...</td>\n",
       "      <td>441136539020</td>\n",
       "      <td>425</td>\n",
       "      <td>599</td>\n",
       "      <td>https://trends.ajio.com/teamspirit-reflective-...</td>\n",
       "      <td>Men</td>\n",
       "      <td>Activewear</td>\n",
       "    </tr>\n",
       "  </tbody>\n",
       "</table>\n",
       "</div>"
      ],
      "text/plain": [
       "        Brand                                        Description  \\\n",
       "0   performax  Typographic Print Track Pants with Insert Pockets   \n",
       "1   performax                       Low-Top Lace-Up Sports Shoes   \n",
       "2  teamspirit                       Colorblock Crew-Neck T-shirt   \n",
       "3   performax       Camouflage Print Joggers with Insert Pockets   \n",
       "4  teamspirit           Reflective Colourblock Crew-Neck T-shirt   \n",
       "\n",
       "                                           Image_URL    Product_ID  \\\n",
       "0  https://assets.ajio.com/medias/sys_master/root...  441136763008   \n",
       "1  https://assets.ajio.com/medias/sys_master/root...  450137679013   \n",
       "2  https://assets.ajio.com/medias/sys_master/root...  441133214008   \n",
       "3  https://assets.ajio.com/medias/sys_master/root...  441134776020   \n",
       "4  https://assets.ajio.com/medias/sys_master/root...  441136539020   \n",
       "\n",
       "  Discount_Price (in Rs.) Original_Price (in Rs.)  \\\n",
       "0                     974                   1,299   \n",
       "1                   1,499                   1,499   \n",
       "2                     461                     549   \n",
       "3                   1,189                   1,699   \n",
       "4                     425                     599   \n",
       "\n",
       "                                         Product_URL Category_by_gender  \\\n",
       "0  https://trends.ajio.com/performax-typographic-...                Men   \n",
       "1  https://trends.ajio.com/performax-low-top-lace...                Men   \n",
       "2  https://trends.ajio.com/teamspirit-colorblock-...                Men   \n",
       "3  https://trends.ajio.com/performax-camouflage-p...                Men   \n",
       "4  https://trends.ajio.com/teamspirit-reflective-...                Men   \n",
       "\n",
       "     Category  \n",
       "0  Activewear  \n",
       "1  Activewear  \n",
       "2  Activewear  \n",
       "3  Activewear  \n",
       "4  Activewear  "
      ]
     },
     "execution_count": 4,
     "metadata": {},
     "output_type": "execute_result"
    }
   ],
   "source": [
    "df.head(5)"
   ]
  },
  {
   "cell_type": "markdown",
   "id": "604571cd",
   "metadata": {
    "papermill": {
     "duration": 0.007419,
     "end_time": "2022-07-06T08:08:59.015079",
     "exception": false,
     "start_time": "2022-07-06T08:08:59.007660",
     "status": "completed"
    },
    "tags": []
   },
   "source": [
    "# Data Cleaning"
   ]
  },
  {
   "cell_type": "code",
   "execution_count": 5,
   "id": "ad5f5dba",
   "metadata": {
    "execution": {
     "iopub.execute_input": "2022-07-06T08:08:59.032453Z",
     "iopub.status.busy": "2022-07-06T08:08:59.031514Z",
     "iopub.status.idle": "2022-07-06T08:08:59.037240Z",
     "shell.execute_reply": "2022-07-06T08:08:59.035938Z"
    },
    "papermill": {
     "duration": 0.016751,
     "end_time": "2022-07-06T08:08:59.039466",
     "exception": false,
     "start_time": "2022-07-06T08:08:59.022715",
     "status": "completed"
    },
    "tags": []
   },
   "outputs": [
    {
     "name": "stdout",
     "output_type": "stream",
     "text": [
      "No of rows are: 31582 and No of columns are: 9\n"
     ]
    }
   ],
   "source": [
    "#Checking no of rows and columns\n",
    "shape=df.shape\n",
    "print('No of rows are: {0} and No of columns are: {1}'.format(shape[0],shape[1]))"
   ]
  },
  {
   "cell_type": "code",
   "execution_count": 6,
   "id": "cb668273",
   "metadata": {
    "execution": {
     "iopub.execute_input": "2022-07-06T08:08:59.056990Z",
     "iopub.status.busy": "2022-07-06T08:08:59.056299Z",
     "iopub.status.idle": "2022-07-06T08:08:59.075657Z",
     "shell.execute_reply": "2022-07-06T08:08:59.074596Z"
    },
    "papermill": {
     "duration": 0.030847,
     "end_time": "2022-07-06T08:08:59.078146",
     "exception": false,
     "start_time": "2022-07-06T08:08:59.047299",
     "status": "completed"
    },
    "tags": []
   },
   "outputs": [
    {
     "data": {
      "text/plain": [
       "Brand                      False\n",
       "Description                False\n",
       "Image_URL                  False\n",
       "Product_ID                 False\n",
       "Discount_Price (in Rs.)    False\n",
       "Original_Price (in Rs.)    False\n",
       "Product_URL                False\n",
       "Category_by_gender         False\n",
       "Category                   False\n",
       "dtype: bool"
      ]
     },
     "execution_count": 6,
     "metadata": {},
     "output_type": "execute_result"
    }
   ],
   "source": [
    "#Checking null values\n",
    "df.isnull().any()"
   ]
  },
  {
   "cell_type": "markdown",
   "id": "50edce94",
   "metadata": {
    "papermill": {
     "duration": 0.007561,
     "end_time": "2022-07-06T08:08:59.094133",
     "exception": false,
     "start_time": "2022-07-06T08:08:59.086572",
     "status": "completed"
    },
    "tags": []
   },
   "source": [
    "As we can see there is no null value"
   ]
  },
  {
   "cell_type": "code",
   "execution_count": 7,
   "id": "1a5d8f74",
   "metadata": {
    "execution": {
     "iopub.execute_input": "2022-07-06T08:08:59.111908Z",
     "iopub.status.busy": "2022-07-06T08:08:59.110680Z",
     "iopub.status.idle": "2022-07-06T08:08:59.174033Z",
     "shell.execute_reply": "2022-07-06T08:08:59.173016Z"
    },
    "papermill": {
     "duration": 0.074568,
     "end_time": "2022-07-06T08:08:59.176423",
     "exception": false,
     "start_time": "2022-07-06T08:08:59.101855",
     "status": "completed"
    },
    "tags": []
   },
   "outputs": [
    {
     "data": {
      "text/plain": [
       "564"
      ]
     },
     "execution_count": 7,
     "metadata": {},
     "output_type": "execute_result"
    }
   ],
   "source": [
    "#Checking duplicate values\n",
    "df.duplicated().sum()"
   ]
  },
  {
   "cell_type": "code",
   "execution_count": 8,
   "id": "4ec0759e",
   "metadata": {
    "execution": {
     "iopub.execute_input": "2022-07-06T08:08:59.195741Z",
     "iopub.status.busy": "2022-07-06T08:08:59.193630Z",
     "iopub.status.idle": "2022-07-06T08:08:59.250399Z",
     "shell.execute_reply": "2022-07-06T08:08:59.249329Z"
    },
    "papermill": {
     "duration": 0.068463,
     "end_time": "2022-07-06T08:08:59.252889",
     "exception": false,
     "start_time": "2022-07-06T08:08:59.184426",
     "status": "completed"
    },
    "tags": []
   },
   "outputs": [],
   "source": [
    "df.drop_duplicates(inplace=True)"
   ]
  },
  {
   "cell_type": "code",
   "execution_count": 9,
   "id": "7c338909",
   "metadata": {
    "execution": {
     "iopub.execute_input": "2022-07-06T08:08:59.270441Z",
     "iopub.status.busy": "2022-07-06T08:08:59.270076Z",
     "iopub.status.idle": "2022-07-06T08:08:59.321030Z",
     "shell.execute_reply": "2022-07-06T08:08:59.320200Z"
    },
    "papermill": {
     "duration": 0.062004,
     "end_time": "2022-07-06T08:08:59.322929",
     "exception": false,
     "start_time": "2022-07-06T08:08:59.260925",
     "status": "completed"
    },
    "tags": []
   },
   "outputs": [
    {
     "data": {
      "text/plain": [
       "0"
      ]
     },
     "execution_count": 9,
     "metadata": {},
     "output_type": "execute_result"
    }
   ],
   "source": [
    "df.duplicated().sum()"
   ]
  },
  {
   "cell_type": "markdown",
   "id": "c28d656f",
   "metadata": {
    "papermill": {
     "duration": 0.007783,
     "end_time": "2022-07-06T08:08:59.338750",
     "exception": false,
     "start_time": "2022-07-06T08:08:59.330967",
     "status": "completed"
    },
    "tags": []
   },
   "source": [
    "You can see we have droppend every duplicate values as they are not useful for data analysis."
   ]
  },
  {
   "cell_type": "code",
   "execution_count": 10,
   "id": "03321303",
   "metadata": {
    "execution": {
     "iopub.execute_input": "2022-07-06T08:08:59.356848Z",
     "iopub.status.busy": "2022-07-06T08:08:59.356162Z",
     "iopub.status.idle": "2022-07-06T08:08:59.384675Z",
     "shell.execute_reply": "2022-07-06T08:08:59.382784Z"
    },
    "papermill": {
     "duration": 0.040454,
     "end_time": "2022-07-06T08:08:59.387351",
     "exception": false,
     "start_time": "2022-07-06T08:08:59.346897",
     "status": "completed"
    },
    "tags": []
   },
   "outputs": [
    {
     "name": "stdout",
     "output_type": "stream",
     "text": [
      "<class 'pandas.core.frame.DataFrame'>\n",
      "Int64Index: 31018 entries, 0 to 31581\n",
      "Data columns (total 9 columns):\n",
      " #   Column                   Non-Null Count  Dtype \n",
      "---  ------                   --------------  ----- \n",
      " 0   Brand                    31018 non-null  object\n",
      " 1   Description              31018 non-null  object\n",
      " 2   Image_URL                31018 non-null  object\n",
      " 3   Product_ID               31018 non-null  int64 \n",
      " 4   Discount_Price (in Rs.)  31018 non-null  object\n",
      " 5   Original_Price (in Rs.)  31018 non-null  object\n",
      " 6   Product_URL              31018 non-null  object\n",
      " 7   Category_by_gender       31018 non-null  object\n",
      " 8   Category                 31018 non-null  object\n",
      "dtypes: int64(1), object(8)\n",
      "memory usage: 2.4+ MB\n"
     ]
    }
   ],
   "source": [
    "#getting more info about the dataframe\n",
    "df.info()"
   ]
  },
  {
   "cell_type": "code",
   "execution_count": 11,
   "id": "40c0c09b",
   "metadata": {
    "execution": {
     "iopub.execute_input": "2022-07-06T08:08:59.406119Z",
     "iopub.status.busy": "2022-07-06T08:08:59.405182Z",
     "iopub.status.idle": "2022-07-06T08:08:59.435046Z",
     "shell.execute_reply": "2022-07-06T08:08:59.434076Z"
    },
    "papermill": {
     "duration": 0.041774,
     "end_time": "2022-07-06T08:08:59.437312",
     "exception": false,
     "start_time": "2022-07-06T08:08:59.395538",
     "status": "completed"
    },
    "tags": []
   },
   "outputs": [],
   "source": [
    "#removing , from price\n",
    "df['Discount_Price (in Rs.)']=df['Discount_Price (in Rs.)'].str.replace(',','')\n",
    "df['Original_Price (in Rs.)']=df['Original_Price (in Rs.)'].str.replace(',','')\n"
   ]
  },
  {
   "cell_type": "code",
   "execution_count": 12,
   "id": "9abb7a4a",
   "metadata": {
    "execution": {
     "iopub.execute_input": "2022-07-06T08:08:59.455340Z",
     "iopub.status.busy": "2022-07-06T08:08:59.454715Z",
     "iopub.status.idle": "2022-07-06T08:08:59.468282Z",
     "shell.execute_reply": "2022-07-06T08:08:59.467246Z"
    },
    "papermill": {
     "duration": 0.024735,
     "end_time": "2022-07-06T08:08:59.470141",
     "exception": false,
     "start_time": "2022-07-06T08:08:59.445406",
     "status": "completed"
    },
    "tags": []
   },
   "outputs": [
    {
     "data": {
      "text/html": [
       "<div>\n",
       "<style scoped>\n",
       "    .dataframe tbody tr th:only-of-type {\n",
       "        vertical-align: middle;\n",
       "    }\n",
       "\n",
       "    .dataframe tbody tr th {\n",
       "        vertical-align: top;\n",
       "    }\n",
       "\n",
       "    .dataframe thead th {\n",
       "        text-align: right;\n",
       "    }\n",
       "</style>\n",
       "<table border=\"1\" class=\"dataframe\">\n",
       "  <thead>\n",
       "    <tr style=\"text-align: right;\">\n",
       "      <th></th>\n",
       "      <th>Brand</th>\n",
       "      <th>Description</th>\n",
       "      <th>Image_URL</th>\n",
       "      <th>Product_ID</th>\n",
       "      <th>Discount_Price (in Rs.)</th>\n",
       "      <th>Original_Price (in Rs.)</th>\n",
       "      <th>Product_URL</th>\n",
       "      <th>Category_by_gender</th>\n",
       "      <th>Category</th>\n",
       "    </tr>\n",
       "  </thead>\n",
       "  <tbody>\n",
       "    <tr>\n",
       "      <th>0</th>\n",
       "      <td>performax</td>\n",
       "      <td>Typographic Print Track Pants with Insert Pockets</td>\n",
       "      <td>https://assets.ajio.com/medias/sys_master/root...</td>\n",
       "      <td>441136763008</td>\n",
       "      <td>974</td>\n",
       "      <td>1299</td>\n",
       "      <td>https://trends.ajio.com/performax-typographic-...</td>\n",
       "      <td>Men</td>\n",
       "      <td>Activewear</td>\n",
       "    </tr>\n",
       "    <tr>\n",
       "      <th>1</th>\n",
       "      <td>performax</td>\n",
       "      <td>Low-Top Lace-Up Sports Shoes</td>\n",
       "      <td>https://assets.ajio.com/medias/sys_master/root...</td>\n",
       "      <td>450137679013</td>\n",
       "      <td>1499</td>\n",
       "      <td>1499</td>\n",
       "      <td>https://trends.ajio.com/performax-low-top-lace...</td>\n",
       "      <td>Men</td>\n",
       "      <td>Activewear</td>\n",
       "    </tr>\n",
       "  </tbody>\n",
       "</table>\n",
       "</div>"
      ],
      "text/plain": [
       "       Brand                                        Description  \\\n",
       "0  performax  Typographic Print Track Pants with Insert Pockets   \n",
       "1  performax                       Low-Top Lace-Up Sports Shoes   \n",
       "\n",
       "                                           Image_URL    Product_ID  \\\n",
       "0  https://assets.ajio.com/medias/sys_master/root...  441136763008   \n",
       "1  https://assets.ajio.com/medias/sys_master/root...  450137679013   \n",
       "\n",
       "  Discount_Price (in Rs.) Original_Price (in Rs.)  \\\n",
       "0                     974                    1299   \n",
       "1                    1499                    1499   \n",
       "\n",
       "                                         Product_URL Category_by_gender  \\\n",
       "0  https://trends.ajio.com/performax-typographic-...                Men   \n",
       "1  https://trends.ajio.com/performax-low-top-lace...                Men   \n",
       "\n",
       "     Category  \n",
       "0  Activewear  \n",
       "1  Activewear  "
      ]
     },
     "execution_count": 12,
     "metadata": {},
     "output_type": "execute_result"
    }
   ],
   "source": [
    "df.head(2)"
   ]
  },
  {
   "cell_type": "code",
   "execution_count": 13,
   "id": "115b1bc3",
   "metadata": {
    "execution": {
     "iopub.execute_input": "2022-07-06T08:08:59.488788Z",
     "iopub.status.busy": "2022-07-06T08:08:59.488117Z",
     "iopub.status.idle": "2022-07-06T08:08:59.505191Z",
     "shell.execute_reply": "2022-07-06T08:08:59.504224Z"
    },
    "papermill": {
     "duration": 0.029031,
     "end_time": "2022-07-06T08:08:59.507427",
     "exception": false,
     "start_time": "2022-07-06T08:08:59.478396",
     "status": "completed"
    },
    "tags": []
   },
   "outputs": [],
   "source": [
    "#Changing the data type of Discount price and original price\n",
    "df['Discount_Price (in Rs.)']=df['Discount_Price (in Rs.)'].astype('float')\n",
    "df['Original_Price (in Rs.)']=df['Original_Price (in Rs.)'].astype('float')"
   ]
  },
  {
   "cell_type": "code",
   "execution_count": 14,
   "id": "3788f819",
   "metadata": {
    "execution": {
     "iopub.execute_input": "2022-07-06T08:08:59.525768Z",
     "iopub.status.busy": "2022-07-06T08:08:59.525118Z",
     "iopub.status.idle": "2022-07-06T08:08:59.545569Z",
     "shell.execute_reply": "2022-07-06T08:08:59.544773Z"
    },
    "papermill": {
     "duration": 0.032168,
     "end_time": "2022-07-06T08:08:59.547845",
     "exception": false,
     "start_time": "2022-07-06T08:08:59.515677",
     "status": "completed"
    },
    "tags": []
   },
   "outputs": [
    {
     "name": "stdout",
     "output_type": "stream",
     "text": [
      "<class 'pandas.core.frame.DataFrame'>\n",
      "Int64Index: 31018 entries, 0 to 31581\n",
      "Data columns (total 9 columns):\n",
      " #   Column                   Non-Null Count  Dtype  \n",
      "---  ------                   --------------  -----  \n",
      " 0   Brand                    31018 non-null  object \n",
      " 1   Description              31018 non-null  object \n",
      " 2   Image_URL                31018 non-null  object \n",
      " 3   Product_ID               31018 non-null  int64  \n",
      " 4   Discount_Price (in Rs.)  31018 non-null  float64\n",
      " 5   Original_Price (in Rs.)  31018 non-null  float64\n",
      " 6   Product_URL              31018 non-null  object \n",
      " 7   Category_by_gender       31018 non-null  object \n",
      " 8   Category                 31018 non-null  object \n",
      "dtypes: float64(2), int64(1), object(6)\n",
      "memory usage: 2.4+ MB\n"
     ]
    }
   ],
   "source": [
    "df.info()"
   ]
  },
  {
   "cell_type": "code",
   "execution_count": 15,
   "id": "4948ab60",
   "metadata": {
    "execution": {
     "iopub.execute_input": "2022-07-06T08:08:59.566529Z",
     "iopub.status.busy": "2022-07-06T08:08:59.565915Z",
     "iopub.status.idle": "2022-07-06T08:08:59.572760Z",
     "shell.execute_reply": "2022-07-06T08:08:59.571598Z"
    },
    "papermill": {
     "duration": 0.018619,
     "end_time": "2022-07-06T08:08:59.574828",
     "exception": false,
     "start_time": "2022-07-06T08:08:59.556209",
     "status": "completed"
    },
    "tags": []
   },
   "outputs": [
    {
     "data": {
      "text/plain": [
       "Index(['Brand', 'Description', 'Image_URL', 'Product_ID',\n",
       "       'Discount_Price (in Rs.)', 'Original_Price (in Rs.)', 'Product_URL',\n",
       "       'Category_by_gender', 'Category'],\n",
       "      dtype='object')"
      ]
     },
     "execution_count": 15,
     "metadata": {},
     "output_type": "execute_result"
    }
   ],
   "source": [
    "df.columns"
   ]
  },
  {
   "cell_type": "markdown",
   "id": "4da6e0b3",
   "metadata": {
    "papermill": {
     "duration": 0.008167,
     "end_time": "2022-07-06T08:08:59.591686",
     "exception": false,
     "start_time": "2022-07-06T08:08:59.583519",
     "status": "completed"
    },
    "tags": []
   },
   "source": [
    "The data is cleaned now.\n"
   ]
  },
  {
   "cell_type": "markdown",
   "id": "bd684c99",
   "metadata": {
    "papermill": {
     "duration": 0.008048,
     "end_time": "2022-07-06T08:08:59.608463",
     "exception": false,
     "start_time": "2022-07-06T08:08:59.600415",
     "status": "completed"
    },
    "tags": []
   },
   "source": [
    "# Basic exploration"
   ]
  },
  {
   "cell_type": "code",
   "execution_count": 16,
   "id": "0a3f5bc8",
   "metadata": {
    "execution": {
     "iopub.execute_input": "2022-07-06T08:08:59.627634Z",
     "iopub.status.busy": "2022-07-06T08:08:59.627063Z",
     "iopub.status.idle": "2022-07-06T08:08:59.639444Z",
     "shell.execute_reply": "2022-07-06T08:08:59.638060Z"
    },
    "papermill": {
     "duration": 0.024688,
     "end_time": "2022-07-06T08:08:59.642114",
     "exception": false,
     "start_time": "2022-07-06T08:08:59.617426",
     "status": "completed"
    },
    "tags": []
   },
   "outputs": [
    {
     "data": {
      "text/plain": [
       "count         31018\n",
       "unique          191\n",
       "top       performax\n",
       "freq           3020\n",
       "Name: Brand, dtype: object"
      ]
     },
     "execution_count": 16,
     "metadata": {},
     "output_type": "execute_result"
    }
   ],
   "source": [
    "df['Brand'].describe()"
   ]
  },
  {
   "cell_type": "markdown",
   "id": "b14cc951",
   "metadata": {
    "papermill": {
     "duration": 0.00819,
     "end_time": "2022-07-06T08:08:59.659118",
     "exception": false,
     "start_time": "2022-07-06T08:08:59.650928",
     "status": "completed"
    },
    "tags": []
   },
   "source": [
    "There are total 191 unique brands available in store. "
   ]
  },
  {
   "cell_type": "code",
   "execution_count": 17,
   "id": "08490d65",
   "metadata": {
    "execution": {
     "iopub.execute_input": "2022-07-06T08:08:59.677763Z",
     "iopub.status.busy": "2022-07-06T08:08:59.677288Z",
     "iopub.status.idle": "2022-07-06T08:08:59.987805Z",
     "shell.execute_reply": "2022-07-06T08:08:59.986683Z"
    },
    "papermill": {
     "duration": 0.322672,
     "end_time": "2022-07-06T08:08:59.990238",
     "exception": false,
     "start_time": "2022-07-06T08:08:59.667566",
     "status": "completed"
    },
    "tags": []
   },
   "outputs": [
    {
     "data": {
      "text/plain": [
       "<AxesSubplot:>"
      ]
     },
     "execution_count": 17,
     "metadata": {},
     "output_type": "execute_result"
    },
    {
     "data": {
      "image/png": "[encoded data removed]",
      "text/plain": [
       "<Figure size 432x288 with 2 Axes>"
      ]
     },
     "metadata": {},
     "output_type": "display_data"
    }
   ],
   "source": [
    "sns.heatmap(df.corr(),annot=True,cmap='coolwarm')"
   ]
  },
  {
   "cell_type": "code",
   "execution_count": 18,
   "id": "2eba2211",
   "metadata": {
    "execution": {
     "iopub.execute_input": "2022-07-06T08:09:00.009762Z",
     "iopub.status.busy": "2022-07-06T08:09:00.009376Z",
     "iopub.status.idle": "2022-07-06T08:09:00.078787Z",
     "shell.execute_reply": "2022-07-06T08:09:00.077703Z"
    },
    "papermill": {
     "duration": 0.08216,
     "end_time": "2022-07-06T08:09:00.081447",
     "exception": false,
     "start_time": "2022-07-06T08:08:59.999287",
     "status": "completed"
    },
    "tags": []
   },
   "outputs": [
    {
     "data": {
      "text/html": [
       "<style type=\"text/css\">\n",
       "#T_10ba8_row0_col0 {\n",
       "  background-color: #ffffff;\n",
       "  color: #000000;\n",
       "}\n",
       "#T_10ba8_row1_col0 {\n",
       "  background-color: #ffffb4;\n",
       "  color: #000000;\n",
       "}\n",
       "#T_10ba8_row2_col0 {\n",
       "  background-color: #ffff75;\n",
       "  color: #000000;\n",
       "}\n",
       "#T_10ba8_row3_col0 {\n",
       "  background-color: #fff400;\n",
       "  color: #000000;\n",
       "}\n",
       "#T_10ba8_row4_col0 {\n",
       "  background-color: #ff2200;\n",
       "  color: #f1f1f1;\n",
       "}\n",
       "#T_10ba8_row5_col0 {\n",
       "  background-color: #cf0000;\n",
       "  color: #f1f1f1;\n",
       "}\n",
       "#T_10ba8_row6_col0 {\n",
       "  background-color: #610000;\n",
       "  color: #f1f1f1;\n",
       "}\n",
       "#T_10ba8_row7_col0 {\n",
       "  background-color: #200000;\n",
       "  color: #f1f1f1;\n",
       "}\n",
       "#T_10ba8_row8_col0 {\n",
       "  background-color: #0b0000;\n",
       "  color: #f1f1f1;\n",
       "}\n",
       "</style>\n",
       "<table id=\"T_10ba8_\">\n",
       "  <thead>\n",
       "    <tr>\n",
       "      <th class=\"blank level0\" >&nbsp;</th>\n",
       "      <th class=\"col_heading level0 col0\" >Category in store</th>\n",
       "    </tr>\n",
       "  </thead>\n",
       "  <tbody>\n",
       "    <tr>\n",
       "      <th id=\"T_10ba8_level0_row0\" class=\"row_heading level0 row0\" >Topwear</th>\n",
       "      <td id=\"T_10ba8_row0_col0\" class=\"data row0 col0\" >6965</td>\n",
       "    </tr>\n",
       "    <tr>\n",
       "      <th id=\"T_10ba8_level0_row1\" class=\"row_heading level0 row1\" >Westernwear</th>\n",
       "      <td id=\"T_10ba8_row1_col0\" class=\"data row1 col0\" >6432</td>\n",
       "    </tr>\n",
       "    <tr>\n",
       "      <th id=\"T_10ba8_level0_row2\" class=\"row_heading level0 row2\" >Footwear</th>\n",
       "      <td id=\"T_10ba8_row2_col0\" class=\"data row2 col0\" >6005</td>\n",
       "    </tr>\n",
       "    <tr>\n",
       "      <th id=\"T_10ba8_level0_row3\" class=\"row_heading level0 row3\" >Ethnicwear</th>\n",
       "      <td id=\"T_10ba8_row3_col0\" class=\"data row3 col0\" >5110</td>\n",
       "    </tr>\n",
       "    <tr>\n",
       "      <th id=\"T_10ba8_level0_row4\" class=\"row_heading level0 row4\" >Bottomwear</th>\n",
       "      <td id=\"T_10ba8_row4_col0\" class=\"data row4 col0\" >2960</td>\n",
       "    </tr>\n",
       "    <tr>\n",
       "      <th id=\"T_10ba8_level0_row5\" class=\"row_heading level0 row5\" >Activewear</th>\n",
       "      <td id=\"T_10ba8_row5_col0\" class=\"data row5 col0\" >2132</td>\n",
       "    </tr>\n",
       "    <tr>\n",
       "      <th id=\"T_10ba8_level0_row6\" class=\"row_heading level0 row6\" >Fusionwear</th>\n",
       "      <td id=\"T_10ba8_row6_col0\" class=\"data row6 col0\" >993</td>\n",
       "    </tr>\n",
       "    <tr>\n",
       "      <th id=\"T_10ba8_level0_row7\" class=\"row_heading level0 row7\" >Lingerie</th>\n",
       "      <td id=\"T_10ba8_row7_col0\" class=\"data row7 col0\" >325</td>\n",
       "    </tr>\n",
       "    <tr>\n",
       "      <th id=\"T_10ba8_level0_row8\" class=\"row_heading level0 row8\" >Innerwear</th>\n",
       "      <td id=\"T_10ba8_row8_col0\" class=\"data row8 col0\" >96</td>\n",
       "    </tr>\n",
       "  </tbody>\n",
       "</table>\n"
      ],
      "text/plain": [
       "<pandas.io.formats.style.Styler at 0x7f3d78ffedd0>"
      ]
     },
     "execution_count": 18,
     "metadata": {},
     "output_type": "execute_result"
    }
   ],
   "source": [
    "value_count = pd.DataFrame({'Category in store':df['Category'].value_counts()})\n",
    "value_count.style.background_gradient(cmap='hot')"
   ]
  },
  {
   "cell_type": "markdown",
   "id": "e91f2f9d",
   "metadata": {
    "papermill": {
     "duration": 0.009354,
     "end_time": "2022-07-06T08:09:00.100389",
     "exception": false,
     "start_time": "2022-07-06T08:09:00.091035",
     "status": "completed"
    },
    "tags": []
   },
   "source": [
    "We have greater number of topwears and lowest numbers of innerwear in our store."
   ]
  },
  {
   "cell_type": "markdown",
   "id": "993cb159",
   "metadata": {
    "papermill": {
     "duration": 0.00935,
     "end_time": "2022-07-06T08:09:00.119640",
     "exception": false,
     "start_time": "2022-07-06T08:09:00.110290",
     "status": "completed"
    },
    "tags": []
   },
   "source": [
    "# Exploratory Data Analysis"
   ]
  },
  {
   "cell_type": "code",
   "execution_count": 19,
   "id": "77e9c518",
   "metadata": {
    "execution": {
     "iopub.execute_input": "2022-07-06T08:09:00.140300Z",
     "iopub.status.busy": "2022-07-06T08:09:00.139742Z",
     "iopub.status.idle": "2022-07-06T08:09:03.525415Z",
     "shell.execute_reply": "2022-07-06T08:09:03.524165Z"
    },
    "papermill": {
     "duration": 3.398895,
     "end_time": "2022-07-06T08:09:03.527957",
     "exception": false,
     "start_time": "2022-07-06T08:09:00.129062",
     "status": "completed"
    },
    "tags": []
   },
   "outputs": [
    {
     "data": {
      "text/plain": [
       "<seaborn.axisgrid.PairGrid at 0x7f3d78fd4350>"
      ]
     },
     "execution_count": 19,
     "metadata": {},
     "output_type": "execute_result"
    },
    {
     "data": {
      "image/png": "[encoded data removed]",
      "text/plain": [
       "<Figure size 540x540 with 12 Axes>"
      ]
     },
     "metadata": {},
     "output_type": "display_data"
    }
   ],
   "source": [
    "\n",
    "sns.pairplot(df)"
   ]
  },
  {
   "cell_type": "code",
   "execution_count": 20,
   "id": "fe42e100",
   "metadata": {
    "execution": {
     "iopub.execute_input": "2022-07-06T08:09:03.551316Z",
     "iopub.status.busy": "2022-07-06T08:09:03.550865Z",
     "iopub.status.idle": "2022-07-06T08:09:04.614145Z",
     "shell.execute_reply": "2022-07-06T08:09:04.612913Z"
    },
    "papermill": {
     "duration": 1.07774,
     "end_time": "2022-07-06T08:09:04.616556",
     "exception": false,
     "start_time": "2022-07-06T08:09:03.538816",
     "status": "completed"
    },
    "tags": []
   },
   "outputs": [
    {
     "data": {
      "text/plain": [
       "<AxesSubplot:title={'center':'Original price vs Discounts'}, xlabel='Original_Price (in Rs.)', ylabel='Discount_Price (in Rs.)'>"
      ]
     },
     "execution_count": 20,
     "metadata": {},
     "output_type": "execute_result"
    },
    {
     "data": {
      "image/png": "[encoded data removed]",
      "text/plain": [
       "<Figure size 1440x504 with 1 Axes>"
      ]
     },
     "metadata": {},
     "output_type": "display_data"
    }
   ],
   "source": [
    "plt.figure(figsize=(20,7))\n",
    "plt.title('Original price vs Discounts')\n",
    "sns.scatterplot(x=df['Original_Price (in Rs.)'],y=df['Discount_Price (in Rs.)'],data = df,hue='Category_by_gender')"
   ]
  },
  {
   "cell_type": "code",
   "execution_count": 21,
   "id": "1f11f84c",
   "metadata": {
    "execution": {
     "iopub.execute_input": "2022-07-06T08:09:04.642180Z",
     "iopub.status.busy": "2022-07-06T08:09:04.641770Z",
     "iopub.status.idle": "2022-07-06T08:09:04.656628Z",
     "shell.execute_reply": "2022-07-06T08:09:04.655189Z"
    },
    "papermill": {
     "duration": 0.030096,
     "end_time": "2022-07-06T08:09:04.659020",
     "exception": false,
     "start_time": "2022-07-06T08:09:04.628924",
     "status": "completed"
    },
    "tags": []
   },
   "outputs": [
    {
     "data": {
      "text/html": [
       "<div>\n",
       "<style scoped>\n",
       "    .dataframe tbody tr th:only-of-type {\n",
       "        vertical-align: middle;\n",
       "    }\n",
       "\n",
       "    .dataframe tbody tr th {\n",
       "        vertical-align: top;\n",
       "    }\n",
       "\n",
       "    .dataframe thead th {\n",
       "        text-align: right;\n",
       "    }\n",
       "</style>\n",
       "<table border=\"1\" class=\"dataframe\">\n",
       "  <thead>\n",
       "    <tr style=\"text-align: right;\">\n",
       "      <th></th>\n",
       "      <th>Brand</th>\n",
       "      <th>Description</th>\n",
       "      <th>Image_URL</th>\n",
       "      <th>Product_ID</th>\n",
       "      <th>Discount_Price (in Rs.)</th>\n",
       "      <th>Original_Price (in Rs.)</th>\n",
       "      <th>Product_URL</th>\n",
       "      <th>Category_by_gender</th>\n",
       "      <th>Category</th>\n",
       "    </tr>\n",
       "  </thead>\n",
       "  <tbody>\n",
       "    <tr>\n",
       "      <th>0</th>\n",
       "      <td>performax</td>\n",
       "      <td>Typographic Print Track Pants with Insert Pockets</td>\n",
       "      <td>https://assets.ajio.com/medias/sys_master/root...</td>\n",
       "      <td>441136763008</td>\n",
       "      <td>974.0</td>\n",
       "      <td>1299.0</td>\n",
       "      <td>https://trends.ajio.com/performax-typographic-...</td>\n",
       "      <td>Men</td>\n",
       "      <td>Activewear</td>\n",
       "    </tr>\n",
       "  </tbody>\n",
       "</table>\n",
       "</div>"
      ],
      "text/plain": [
       "       Brand                                        Description  \\\n",
       "0  performax  Typographic Print Track Pants with Insert Pockets   \n",
       "\n",
       "                                           Image_URL    Product_ID  \\\n",
       "0  https://assets.ajio.com/medias/sys_master/root...  441136763008   \n",
       "\n",
       "   Discount_Price (in Rs.)  Original_Price (in Rs.)  \\\n",
       "0                    974.0                   1299.0   \n",
       "\n",
       "                                         Product_URL Category_by_gender  \\\n",
       "0  https://trends.ajio.com/performax-typographic-...                Men   \n",
       "\n",
       "     Category  \n",
       "0  Activewear  "
      ]
     },
     "execution_count": 21,
     "metadata": {},
     "output_type": "execute_result"
    }
   ],
   "source": [
    "df.head(1)"
   ]
  },
  {
   "cell_type": "code",
   "execution_count": 22,
   "id": "a1f02e49",
   "metadata": {
    "execution": {
     "iopub.execute_input": "2022-07-06T08:09:04.684936Z",
     "iopub.status.busy": "2022-07-06T08:09:04.684407Z",
     "iopub.status.idle": "2022-07-06T08:09:04.996490Z",
     "shell.execute_reply": "2022-07-06T08:09:04.995293Z"
    },
    "papermill": {
     "duration": 0.327891,
     "end_time": "2022-07-06T08:09:04.998846",
     "exception": false,
     "start_time": "2022-07-06T08:09:04.670955",
     "status": "completed"
    },
    "tags": []
   },
   "outputs": [
    {
     "data": {
      "text/plain": [
       "Text(0.5, 1.0, 'Category available in terms of gender')"
      ]
     },
     "execution_count": 22,
     "metadata": {},
     "output_type": "execute_result"
    },
    {
     "data": {
      "image/png": "[encoded data removed]",
      "text/plain": [
       "<Figure size 1440x504 with 1 Axes>"
      ]
     },
     "metadata": {},
     "output_type": "display_data"
    }
   ],
   "source": [
    "\n",
    "df1=pd.pivot_table(df,values='Product_ID' , index=['Category'],columns=['Category_by_gender'],fill_value=0, aggfunc=np.sum)\n",
    "df1.plot(kind='bar', figsize=(20,7))\n",
    "plt.title('Category available in terms of gender')"
   ]
  },
  {
   "cell_type": "markdown",
   "id": "1f76da6b",
   "metadata": {
    "papermill": {
     "duration": 0.012089,
     "end_time": "2022-07-06T08:09:05.023262",
     "exception": false,
     "start_time": "2022-07-06T08:09:05.011173",
     "status": "completed"
    },
    "tags": []
   },
   "source": [
    "So this is a great insight. Either the data is not suffecient of store is really running out in certain categories and they need to bring supplies."
   ]
  },
  {
   "cell_type": "code",
   "execution_count": 23,
   "id": "58efff0e",
   "metadata": {
    "execution": {
     "iopub.execute_input": "2022-07-06T08:09:05.050742Z",
     "iopub.status.busy": "2022-07-06T08:09:05.050308Z",
     "iopub.status.idle": "2022-07-06T08:09:05.389408Z",
     "shell.execute_reply": "2022-07-06T08:09:05.388331Z"
    },
    "papermill": {
     "duration": 0.355552,
     "end_time": "2022-07-06T08:09:05.391523",
     "exception": false,
     "start_time": "2022-07-06T08:09:05.035971",
     "status": "completed"
    },
    "tags": []
   },
   "outputs": [
    {
     "data": {
      "text/plain": [
       "<AxesSubplot:xlabel='Category', ylabel='Discount_Price (in Rs.)'>"
      ]
     },
     "execution_count": 23,
     "metadata": {},
     "output_type": "execute_result"
    },
    {
     "data": {
      "image/png": "[encoded data removed]",
      "text/plain": [
       "<Figure size 1440x504 with 1 Axes>"
      ]
     },
     "metadata": {},
     "output_type": "display_data"
    }
   ],
   "source": [
    "plt.figure(figsize=(20,7))\n",
    "sns.boxplot(x=df['Category'],y=df['Discount_Price (in Rs.)'])"
   ]
  },
  {
   "cell_type": "markdown",
   "id": "e52e3501",
   "metadata": {
    "papermill": {
     "duration": 0.013686,
     "end_time": "2022-07-06T08:09:05.418120",
     "exception": false,
     "start_time": "2022-07-06T08:09:05.404434",
     "status": "completed"
    },
    "tags": []
   },
   "source": [
    "Footwear is having the maximun discounts. innearwear is having the least discount."
   ]
  },
  {
   "cell_type": "code",
   "execution_count": 24,
   "id": "a7331914",
   "metadata": {
    "execution": {
     "iopub.execute_input": "2022-07-06T08:09:05.447068Z",
     "iopub.status.busy": "2022-07-06T08:09:05.445981Z",
     "iopub.status.idle": "2022-07-06T08:09:05.454483Z",
     "shell.execute_reply": "2022-07-06T08:09:05.453541Z"
    },
    "papermill": {
     "duration": 0.025172,
     "end_time": "2022-07-06T08:09:05.456699",
     "exception": false,
     "start_time": "2022-07-06T08:09:05.431527",
     "status": "completed"
    },
    "tags": []
   },
   "outputs": [],
   "source": [
    "diff = df['Original_Price (in Rs.)'] - df['Discount_Price (in Rs.)']\n",
    "DisPer= diff*100 / df['Original_Price (in Rs.)']\n",
    "df['DisPer']=DisPer\n",
    "df['DisPer']=df['DisPer'].astype('int')"
   ]
  },
  {
   "cell_type": "code",
   "execution_count": 25,
   "id": "84378b90",
   "metadata": {
    "execution": {
     "iopub.execute_input": "2022-07-06T08:09:05.484452Z",
     "iopub.status.busy": "2022-07-06T08:09:05.483696Z",
     "iopub.status.idle": "2022-07-06T08:09:05.503185Z",
     "shell.execute_reply": "2022-07-06T08:09:05.502031Z"
    },
    "papermill": {
     "duration": 0.035963,
     "end_time": "2022-07-06T08:09:05.505430",
     "exception": false,
     "start_time": "2022-07-06T08:09:05.469467",
     "status": "completed"
    },
    "tags": []
   },
   "outputs": [
    {
     "data": {
      "text/html": [
       "<div>\n",
       "<style scoped>\n",
       "    .dataframe tbody tr th:only-of-type {\n",
       "        vertical-align: middle;\n",
       "    }\n",
       "\n",
       "    .dataframe tbody tr th {\n",
       "        vertical-align: top;\n",
       "    }\n",
       "\n",
       "    .dataframe thead th {\n",
       "        text-align: right;\n",
       "    }\n",
       "</style>\n",
       "<table border=\"1\" class=\"dataframe\">\n",
       "  <thead>\n",
       "    <tr style=\"text-align: right;\">\n",
       "      <th></th>\n",
       "      <th>Brand</th>\n",
       "      <th>Description</th>\n",
       "      <th>Image_URL</th>\n",
       "      <th>Product_ID</th>\n",
       "      <th>Discount_Price (in Rs.)</th>\n",
       "      <th>Original_Price (in Rs.)</th>\n",
       "      <th>Product_URL</th>\n",
       "      <th>Category_by_gender</th>\n",
       "      <th>Category</th>\n",
       "      <th>DisPer</th>\n",
       "    </tr>\n",
       "  </thead>\n",
       "  <tbody>\n",
       "    <tr>\n",
       "      <th>21728</th>\n",
       "      <td>catwalk</td>\n",
       "      <td>Chunky-Heeled Slip-On Boots</td>\n",
       "      <td>https://assets.ajio.com/medias/sys_master/root...</td>\n",
       "      <td>450144661001</td>\n",
       "      <td>599.0</td>\n",
       "      <td>3995.0</td>\n",
       "      <td>https://trends.ajio.com/catwalk-chunky-heeled-...</td>\n",
       "      <td>Women</td>\n",
       "      <td>Footwear</td>\n",
       "      <td>85</td>\n",
       "    </tr>\n",
       "    <tr>\n",
       "      <th>21652</th>\n",
       "      <td>catwalk</td>\n",
       "      <td>Textured Casual Shoes with Velcro Closure</td>\n",
       "      <td>https://assets.ajio.com/medias/sys_master/root...</td>\n",
       "      <td>450132182001</td>\n",
       "      <td>511.0</td>\n",
       "      <td>3195.0</td>\n",
       "      <td>https://trends.ajio.com/catwalk-textured-casua...</td>\n",
       "      <td>Women</td>\n",
       "      <td>Footwear</td>\n",
       "      <td>84</td>\n",
       "    </tr>\n",
       "    <tr>\n",
       "      <th>21063</th>\n",
       "      <td>catwalk</td>\n",
       "      <td>Animal Print Boat Shoes</td>\n",
       "      <td>https://assets.ajio.com/medias/sys_master/root...</td>\n",
       "      <td>450144669001</td>\n",
       "      <td>599.0</td>\n",
       "      <td>2995.0</td>\n",
       "      <td>https://trends.ajio.com/catwalk-animal-print-b...</td>\n",
       "      <td>Women</td>\n",
       "      <td>Footwear</td>\n",
       "      <td>80</td>\n",
       "    </tr>\n",
       "    <tr>\n",
       "      <th>21073</th>\n",
       "      <td>catwalk</td>\n",
       "      <td>Boat Shoes with Knot Accent</td>\n",
       "      <td>https://assets.ajio.com/medias/sys_master/root...</td>\n",
       "      <td>450144667003</td>\n",
       "      <td>559.0</td>\n",
       "      <td>2795.0</td>\n",
       "      <td>https://trends.ajio.com/catwalk-boat-shoes-wit...</td>\n",
       "      <td>Women</td>\n",
       "      <td>Footwear</td>\n",
       "      <td>80</td>\n",
       "    </tr>\n",
       "    <tr>\n",
       "      <th>21617</th>\n",
       "      <td>catwalk</td>\n",
       "      <td>Strappy Sandals with Embellished Heels</td>\n",
       "      <td>https://assets.ajio.com/medias/sys_master/root...</td>\n",
       "      <td>450139278001</td>\n",
       "      <td>679.0</td>\n",
       "      <td>3395.0</td>\n",
       "      <td>https://trends.ajio.com/catwalk-strappy-sandal...</td>\n",
       "      <td>Women</td>\n",
       "      <td>Footwear</td>\n",
       "      <td>80</td>\n",
       "    </tr>\n",
       "    <tr>\n",
       "      <th>6393</th>\n",
       "      <td>buckaroo</td>\n",
       "      <td>Powell Slip-On Leather Casual Shoes</td>\n",
       "      <td>https://assets.ajio.com/medias/sys_master/root...</td>\n",
       "      <td>450138977003</td>\n",
       "      <td>799.0</td>\n",
       "      <td>3995.0</td>\n",
       "      <td>https://trends.ajio.com/buckaroo-powell-slip-o...</td>\n",
       "      <td>Men</td>\n",
       "      <td>Footwear</td>\n",
       "      <td>80</td>\n",
       "    </tr>\n",
       "    <tr>\n",
       "      <th>17802</th>\n",
       "      <td>swadesh</td>\n",
       "      <td>Chanderi Straight Kurta with Sequinned Yoke-Pr...</td>\n",
       "      <td>https://assets.ajio.com/medias/sys_master/root...</td>\n",
       "      <td>440822735001</td>\n",
       "      <td>760.0</td>\n",
       "      <td>3799.0</td>\n",
       "      <td>https://trends.ajio.com/swadesh-chanderi-strai...</td>\n",
       "      <td>Women</td>\n",
       "      <td>Ethnicwear</td>\n",
       "      <td>79</td>\n",
       "    </tr>\n",
       "    <tr>\n",
       "      <th>17612</th>\n",
       "      <td>swadesh</td>\n",
       "      <td>Printed Panelled Flared Kurta with Pockets</td>\n",
       "      <td>https://assets.ajio.com/medias/sys_master/root...</td>\n",
       "      <td>440824533002</td>\n",
       "      <td>1800.0</td>\n",
       "      <td>8999.0</td>\n",
       "      <td>https://trends.ajio.com/swadesh-printed-panell...</td>\n",
       "      <td>Women</td>\n",
       "      <td>Ethnicwear</td>\n",
       "      <td>79</td>\n",
       "    </tr>\n",
       "    <tr>\n",
       "      <th>24531</th>\n",
       "      <td>swadesh</td>\n",
       "      <td>Bagru Handblock Print Chanderi  Top</td>\n",
       "      <td>https://assets.ajio.com/medias/sys_master/root...</td>\n",
       "      <td>440746069003</td>\n",
       "      <td>720.0</td>\n",
       "      <td>3599.0</td>\n",
       "      <td>https://trends.ajio.com/swadesh-bagru-handbloc...</td>\n",
       "      <td>Women</td>\n",
       "      <td>Fusionwear</td>\n",
       "      <td>79</td>\n",
       "    </tr>\n",
       "    <tr>\n",
       "      <th>17243</th>\n",
       "      <td>swadesh</td>\n",
       "      <td>Textured Printed Panelled A-line Kurta</td>\n",
       "      <td>https://assets.ajio.com/medias/sys_master/root...</td>\n",
       "      <td>440824526001</td>\n",
       "      <td>1520.0</td>\n",
       "      <td>7599.0</td>\n",
       "      <td>https://trends.ajio.com/swadesh-textured-print...</td>\n",
       "      <td>Women</td>\n",
       "      <td>Ethnicwear</td>\n",
       "      <td>79</td>\n",
       "    </tr>\n",
       "  </tbody>\n",
       "</table>\n",
       "</div>"
      ],
      "text/plain": [
       "          Brand                                        Description  \\\n",
       "21728   catwalk                        Chunky-Heeled Slip-On Boots   \n",
       "21652   catwalk          Textured Casual Shoes with Velcro Closure   \n",
       "21063   catwalk                            Animal Print Boat Shoes   \n",
       "21073   catwalk                        Boat Shoes with Knot Accent   \n",
       "21617   catwalk             Strappy Sandals with Embellished Heels   \n",
       "6393   buckaroo                Powell Slip-On Leather Casual Shoes   \n",
       "17802   swadesh  Chanderi Straight Kurta with Sequinned Yoke-Pr...   \n",
       "17612   swadesh         Printed Panelled Flared Kurta with Pockets   \n",
       "24531   swadesh                Bagru Handblock Print Chanderi  Top   \n",
       "17243   swadesh             Textured Printed Panelled A-line Kurta   \n",
       "\n",
       "                                               Image_URL    Product_ID  \\\n",
       "21728  https://assets.ajio.com/medias/sys_master/root...  450144661001   \n",
       "21652  https://assets.ajio.com/medias/sys_master/root...  450132182001   \n",
       "21063  https://assets.ajio.com/medias/sys_master/root...  450144669001   \n",
       "21073  https://assets.ajio.com/medias/sys_master/root...  450144667003   \n",
       "21617  https://assets.ajio.com/medias/sys_master/root...  450139278001   \n",
       "6393   https://assets.ajio.com/medias/sys_master/root...  450138977003   \n",
       "17802  https://assets.ajio.com/medias/sys_master/root...  440822735001   \n",
       "17612  https://assets.ajio.com/medias/sys_master/root...  440824533002   \n",
       "24531  https://assets.ajio.com/medias/sys_master/root...  440746069003   \n",
       "17243  https://assets.ajio.com/medias/sys_master/root...  440824526001   \n",
       "\n",
       "       Discount_Price (in Rs.)  Original_Price (in Rs.)  \\\n",
       "21728                    599.0                   3995.0   \n",
       "21652                    511.0                   3195.0   \n",
       "21063                    599.0                   2995.0   \n",
       "21073                    559.0                   2795.0   \n",
       "21617                    679.0                   3395.0   \n",
       "6393                     799.0                   3995.0   \n",
       "17802                    760.0                   3799.0   \n",
       "17612                   1800.0                   8999.0   \n",
       "24531                    720.0                   3599.0   \n",
       "17243                   1520.0                   7599.0   \n",
       "\n",
       "                                             Product_URL Category_by_gender  \\\n",
       "21728  https://trends.ajio.com/catwalk-chunky-heeled-...              Women   \n",
       "21652  https://trends.ajio.com/catwalk-textured-casua...              Women   \n",
       "21063  https://trends.ajio.com/catwalk-animal-print-b...              Women   \n",
       "21073  https://trends.ajio.com/catwalk-boat-shoes-wit...              Women   \n",
       "21617  https://trends.ajio.com/catwalk-strappy-sandal...              Women   \n",
       "6393   https://trends.ajio.com/buckaroo-powell-slip-o...                Men   \n",
       "17802  https://trends.ajio.com/swadesh-chanderi-strai...              Women   \n",
       "17612  https://trends.ajio.com/swadesh-printed-panell...              Women   \n",
       "24531  https://trends.ajio.com/swadesh-bagru-handbloc...              Women   \n",
       "17243  https://trends.ajio.com/swadesh-textured-print...              Women   \n",
       "\n",
       "         Category  DisPer  \n",
       "21728    Footwear      85  \n",
       "21652    Footwear      84  \n",
       "21063    Footwear      80  \n",
       "21073    Footwear      80  \n",
       "21617    Footwear      80  \n",
       "6393     Footwear      80  \n",
       "17802  Ethnicwear      79  \n",
       "17612  Ethnicwear      79  \n",
       "24531  Fusionwear      79  \n",
       "17243  Ethnicwear      79  "
      ]
     },
     "execution_count": 25,
     "metadata": {},
     "output_type": "execute_result"
    }
   ],
   "source": [
    "#Top 10 items having maximum discounts \n",
    "df[df['DisPer']>=70].sort_values(by='DisPer',ascending=False).head(10)"
   ]
  },
  {
   "cell_type": "markdown",
   "id": "d5e459a6",
   "metadata": {
    "papermill": {
     "duration": 0.013106,
     "end_time": "2022-07-06T08:09:05.531843",
     "exception": false,
     "start_time": "2022-07-06T08:09:05.518737",
     "status": "completed"
    },
    "tags": []
   },
   "source": [
    "Above are the Top 10 items having maximum discounts "
   ]
  },
  {
   "cell_type": "code",
   "execution_count": 26,
   "id": "4a8e929b",
   "metadata": {
    "execution": {
     "iopub.execute_input": "2022-07-06T08:09:05.560588Z",
     "iopub.status.busy": "2022-07-06T08:09:05.560204Z",
     "iopub.status.idle": "2022-07-06T08:09:05.794540Z",
     "shell.execute_reply": "2022-07-06T08:09:05.793221Z"
    },
    "papermill": {
     "duration": 0.251803,
     "end_time": "2022-07-06T08:09:05.796977",
     "exception": false,
     "start_time": "2022-07-06T08:09:05.545174",
     "status": "completed"
    },
    "tags": []
   },
   "outputs": [
    {
     "data": {
      "text/plain": [
       "Text(0.5, 1.0, 'Top 3 Brands')"
      ]
     },
     "execution_count": 26,
     "metadata": {},
     "output_type": "execute_result"
    },
    {
     "data": {
      "image/png": "[encoded data removed]",
      "text/plain": [
       "<Figure size 1440x504 with 1 Axes>"
      ]
     },
     "metadata": {},
     "output_type": "display_data"
    }
   ],
   "source": [
    "#displaying top 3 brands in terms of quantity present in store\n",
    "plt.figure(figsize=(20,7))\n",
    "df['Brand'].value_counts().head(3).sort_values().plot(kind = 'barh')\n",
    "plt.ylabel('Brand')\n",
    "plt.xlabel('Item_Count')\n",
    "plt.title('Top 3 Brands')"
   ]
  },
  {
   "cell_type": "code",
   "execution_count": 27,
   "id": "82aa138d",
   "metadata": {
    "execution": {
     "iopub.execute_input": "2022-07-06T08:09:05.826799Z",
     "iopub.status.busy": "2022-07-06T08:09:05.826416Z",
     "iopub.status.idle": "2022-07-06T08:09:06.041361Z",
     "shell.execute_reply": "2022-07-06T08:09:06.040342Z"
    },
    "papermill": {
     "duration": 0.232335,
     "end_time": "2022-07-06T08:09:06.043829",
     "exception": false,
     "start_time": "2022-07-06T08:09:05.811494",
     "status": "completed"
    },
    "tags": []
   },
   "outputs": [
    {
     "data": {
      "text/plain": [
       "Text(0.5, 1.0, 'Discounts based on gender')"
      ]
     },
     "execution_count": 27,
     "metadata": {},
     "output_type": "execute_result"
    },
    {
     "data": {
      "image/png": "[encoded data removed]",
      "text/plain": [
       "<Figure size 1440x504 with 1 Axes>"
      ]
     },
     "metadata": {},
     "output_type": "display_data"
    }
   ],
   "source": [
    "plt.figure(figsize=(20,7))\n",
    "sns.boxplot(x=df['Category_by_gender'],y=df['DisPer'])\n",
    "plt.title('Discounts based on gender')"
   ]
  },
  {
   "cell_type": "code",
   "execution_count": 28,
   "id": "ce817ff3",
   "metadata": {
    "execution": {
     "iopub.execute_input": "2022-07-06T08:09:06.074766Z",
     "iopub.status.busy": "2022-07-06T08:09:06.074025Z",
     "iopub.status.idle": "2022-07-06T08:09:06.399664Z",
     "shell.execute_reply": "2022-07-06T08:09:06.398413Z"
    },
    "papermill": {
     "duration": 0.343939,
     "end_time": "2022-07-06T08:09:06.402054",
     "exception": false,
     "start_time": "2022-07-06T08:09:06.058115",
     "status": "completed"
    },
    "tags": []
   },
   "outputs": [
    {
     "name": "stderr",
     "output_type": "stream",
     "text": [
      "/opt/conda/lib/python3.7/site-packages/seaborn/_decorators.py:43: FutureWarning: Pass the following variables as keyword args: x, y. From version 0.12, the only valid positional argument will be `data`, and passing other arguments without an explicit keyword will result in an error or misinterpretation.\n",
      "  FutureWarning\n"
     ]
    },
    {
     "data": {
      "text/plain": [
       "Text(0.5, 1.0, 'Discounts based on category')"
      ]
     },
     "execution_count": 28,
     "metadata": {},
     "output_type": "execute_result"
    },
    {
     "data": {
      "image/png": "[encoded data removed]",
      "text/plain": [
       "<Figure size 1440x504 with 1 Axes>"
      ]
     },
     "metadata": {},
     "output_type": "display_data"
    }
   ],
   "source": [
    "plt.figure(figsize=(20,7))\n",
    "sns.boxplot(df['Category'],df['DisPer'])\n",
    "plt.title('Discounts based on category')"
   ]
  },
  {
   "cell_type": "code",
   "execution_count": null,
   "id": "294ecc32",
   "metadata": {
    "papermill": {
     "duration": 0.014439,
     "end_time": "2022-07-06T08:09:06.430915",
     "exception": false,
     "start_time": "2022-07-06T08:09:06.416476",
     "status": "completed"
    },
    "tags": []
   },
   "outputs": [],
   "source": []
  },
  {
   "cell_type": "markdown",
   "id": "f8129afc",
   "metadata": {
    "papermill": {
     "duration": 0.01462,
     "end_time": "2022-07-06T08:09:06.461208",
     "exception": false,
     "start_time": "2022-07-06T08:09:06.446588",
     "status": "completed"
    },
    "tags": []
   },
   "source": [
    "### **THANK YOU!!!\n",
    "### PLease upvote if you like the notebook**"
   ]
  },
  {
   "cell_type": "code",
   "execution_count": null,
   "id": "ca062c22",
   "metadata": {
    "papermill": {
     "duration": 0.014427,
     "end_time": "2022-07-06T08:09:06.490236",
     "exception": false,
     "start_time": "2022-07-06T08:09:06.475809",
     "status": "completed"
    },
    "tags": []
   },
   "outputs": [],
   "source": []
  }
 ],
 "metadata": {
  "kernelspec": {
   "display_name": "Python 3",
   "language": "python",
   "name": "python3"
  },
  "language_info": {
   "codemirror_mode": {
    "name": "ipython",
    "version": 3
   },
   "file_extension": ".py",
   "mimetype": "text/x-python",
   "name": "python",
   "nbconvert_exporter": "python",
   "pygments_lexer": "ipython3",
   "version": "3.7.12"
  },
  "papermill": {
   "default_parameters": {},
   "duration": 20.47193,
   "end_time": "2022-07-06T08:09:07.427333",
   "environment_variables": {},
   "exception": null,
   "input_path": "__notebook__.ipynb",
   "output_path": "__notebook__.ipynb",
   "parameters": {},
   "start_time": "2022-07-06T08:08:46.955403",
   "version": "2.3.4"
  }
 },
 "nbformat": 4,
 "nbformat_minor": 5
}
